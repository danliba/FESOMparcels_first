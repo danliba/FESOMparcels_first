{
 "cells": [
  {
   "cell_type": "code",
   "execution_count": 6,
   "id": "6bcdb290-8aed-4c52-a8eb-58cbb90df784",
   "metadata": {
    "editable": true,
    "slideshow": {
     "slide_type": ""
    },
    "tags": []
   },
   "outputs": [],
   "source": [
    "from parcels import ParticleSet\n",
    "from parcels import JITParticle\n",
    "from parcels import AdvectionRK4_3D\n",
    "from parcels import AdvectionRK4\n",
    "from datetime import timedelta\n",
    "import numpy as np\n",
    "from parcels import FieldSet\n",
    "from glob import glob"
   ]
  },
  {
   "cell_type": "code",
   "execution_count": 7,
   "id": "a7e6d05c-1657-4b4d-b6d7-fb36ae3eb011",
   "metadata": {
    "editable": true,
    "slideshow": {
     "slide_type": ""
    },
    "tags": [
     "parameters"
    ]
   },
   "outputs": [],
   "source": [
    "## parameters\n",
    "## set the number of particles\n",
    "num_particles = 10_000\n",
    "\n",
    "## Set the location of the particles\n",
    "channel_lon_bds = (0,4.5-0.1) # use inmutable objects\n",
    "channel_lat_bds = (0+1,18-1)\n",
    "\n",
    "## set the tracking time\n",
    "days = 360\n",
    "minutes = 20\n",
    "\n",
    "## record the particles every timestep of\n",
    "hours=4\n",
    "\n",
    "##start time\n",
    "yrst=1960\n",
    "yren=2057\n",
    "\n",
    "# Papermill-injected parameters or default values\n",
    "try:\n",
    "    depth  # Check if depth is injected\n",
    "except NameError:\n",
    "    depth = np.random.uniform(0, 4000, size=num_particles)  # Default random depths\n",
    "\n",
    "try:\n",
    "    lon_start  # Check if lon_start is injected\n",
    "except NameError:\n",
    "    lon_start = np.random.uniform(*channel_lon_bds, size=(num_particles,))  # Default random longitudes\n",
    "\n",
    "try:\n",
    "    lat_start  # Check if lat_start is injected\n",
    "except NameError:\n",
    "    lat_start = np.random.uniform(*channel_lat_bds, size=(num_particles,))  # Default random latitudes\n"
   ]
  },
  {
   "cell_type": "code",
   "execution_count": 8,
   "id": "de1c1864-1492-4d24-ae1f-094eba68436a",
   "metadata": {
    "editable": true,
    "slideshow": {
     "slide_type": ""
    },
    "tags": [
     "parameters"
    ]
   },
   "outputs": [],
   "source": [
    "##prepare the files\n",
    "path1= '/gxfs_work/geomar/smomw662/FESOM_data/channel_interp'\n",
    "\n",
    "ufiles=[]\n",
    "vfiles=[]\n",
    "wfiles=[]\n",
    "\n",
    "for year in range(yrst, yren + 1):\n",
    "    ufiles += sorted(glob(f\"{path1}/u.{year}*.nc\"))\n",
    "    vfiles += sorted(glob(f\"{path1}/v.{year}*.nc\"))\n",
    "    wfiles += sorted(glob(f\"{path1}/w.{year}*.nc\"))"
   ]
  },
  {
   "cell_type": "code",
   "execution_count": 9,
   "id": "06f0ae6f-8584-476c-82b9-111da64eebfa",
   "metadata": {
    "editable": true,
    "slideshow": {
     "slide_type": ""
    },
    "tags": []
   },
   "outputs": [],
   "source": [
    "## define the fieldset\n",
    "filenames = {\"U\": ufiles,\n",
    "             \"V\": vfiles,\n",
    "             \"W\": wfiles,\n",
    "            }\n",
    "\n",
    "variables = {\"U\": \"u\",\n",
    "             \"V\": \"v\",\n",
    "             \"W\": \"w\",}\n",
    "\n",
    "dimensions = {'time': 'time',\n",
    "              'depth': 'z',\n",
    "              'lat': 'grid_lat',\n",
    "              'lon': 'grid_lon'}\n"
   ]
  },
  {
   "cell_type": "code",
   "execution_count": 10,
   "id": "e83ba1f7-d2bd-40aa-8cb0-8d2e3d3d291d",
   "metadata": {
    "editable": true,
    "slideshow": {
     "slide_type": ""
    },
    "tags": []
   },
   "outputs": [],
   "source": [
    "fieldset = FieldSet.from_netcdf(\n",
    "    filenames, \n",
    "    variables, \n",
    "    dimensions,\n",
    "    time_periodic=False,\n",
    "    allow_time_extrapolation=False,    \n",
    ")\n"
   ]
  },
  {
   "cell_type": "code",
   "execution_count": 11,
   "id": "e4d53b8c-531e-42c5-8d3b-a207135cd8a5",
   "metadata": {
    "editable": true,
    "slideshow": {
     "slide_type": ""
    },
    "tags": []
   },
   "outputs": [],
   "source": [
    "## add the Halo\n",
    "fieldset.add_constant(\"halo_west\", fieldset.U.grid.lon[0])\n",
    "fieldset.add_constant(\"halo_east\", fieldset.U.grid.lon[-1])\n",
    "fieldset.add_periodic_halo(zonal=True)\n",
    "\n",
    "def periodicBC(particle,fielset,time):\n",
    "    if particle.lon < fieldset.halo_west:\n",
    "        particle_dlon += fieldset.halo_east - fieldset.halo_west\n",
    "    elif particle.lon > fieldset.halo_east:\n",
    "        particle_dlon -= fieldset.halo_east - fieldset.halo_west\n",
    "\n",
    "##check the error\n",
    "def CheckError(particle, fieldset, time):\n",
    "    if particle.state >= 50:  # This captures all Errors\n",
    "        particle.delete()"
   ]
  },
  {
   "cell_type": "code",
   "execution_count": 12,
   "id": "427531d8-dfc3-425d-9c96-ee94acce64e2",
   "metadata": {
    "editable": true,
    "slideshow": {
     "slide_type": ""
    },
    "tags": [
     "parameters"
    ]
   },
   "outputs": [],
   "source": [
    "## Time and depth initial conditios\n",
    "time_origin=np.array([str(fieldset.time_origin)],dtype='datetime64[ns]')\n",
    "time = np.repeat(time_origin, num_particles)  # Assign the same time to all particles"
   ]
  },
  {
   "cell_type": "code",
   "execution_count": 13,
   "id": "d20b3a35-5b51-4778-853e-da6eae8f7332",
   "metadata": {
    "editable": true,
    "slideshow": {
     "slide_type": ""
    },
    "tags": []
   },
   "outputs": [],
   "source": [
    "## initiate pset\n",
    "pset = ParticleSet(\n",
    "    fieldset=fieldset,\n",
    "    pclass=JITParticle,\n",
    "    lon = lon_start,\n",
    "    lat = lat_start,\n",
    "    depth=depth,\n",
    "    time=time\n",
    ") "
   ]
  },
  {
   "cell_type": "code",
   "execution_count": 16,
   "id": "a40f3d5b-c52c-44c5-9f11-9c5b90bba21c",
   "metadata": {
    "editable": true,
    "slideshow": {
     "slide_type": ""
    },
    "tags": []
   },
   "outputs": [],
   "source": [
    "rnd=np.random.randint(1234)\n",
    "\n",
    "out_path = '/gxfs_work/geomar/smomw662/FESOMparcels_first/data/' #path to store the particle zarr\n",
    "out_fn = f\"Parcels_run_{rnd}\"\n",
    "\n",
    "output_file = pset.ParticleFile(name=out_path+out_fn, \n",
    "                                outputdt=timedelta(hours=hours))"
   ]
  },
  {
   "cell_type": "code",
   "execution_count": null,
   "id": "0521b21f-ae9f-4fbd-b97b-e276da5752a5",
   "metadata": {
    "editable": true,
    "slideshow": {
     "slide_type": ""
    },
    "tags": []
   },
   "outputs": [],
   "source": [
    "## Execute particles\n",
    "pset.execute(\n",
    "    [AdvectionRK4_3D,periodicBC,CheckError],\n",
    "    runtime=timedelta(days=days),\n",
    "    dt=timedelta(minutes=minutes),\n",
    "    output_file= output_file\n",
    ")"
   ]
  },
  {
   "cell_type": "code",
   "execution_count": null,
   "id": "5294bdba-f00a-4d26-8ae2-ec9b75b2583a",
   "metadata": {},
   "outputs": [],
   "source": [
    "import xarray as xr\n",
    "import numpy as np\n",
    "from matplotlib import pyplot as plt\n",
    "from cmocean import cm # for oceanography-specific colormaps\n",
    "from itertools import zip_longest\n",
    "from functools import reduce\n",
    "from operator import add\n",
    "from pathlib import Path\n",
    "import tqdm"
   ]
  },
  {
   "cell_type": "code",
   "execution_count": null,
   "id": "8b95c103-139f-443e-a01c-f036479dc2a0",
   "metadata": {},
   "outputs": [],
   "source": [
    "ds_traj = xr.open_zarr(out_path+out_fn+\".zarr\")\n",
    "ds_traj = ds_traj.compute()\n",
    "ds_traj"
   ]
  },
  {
   "cell_type": "code",
   "execution_count": null,
   "id": "310c9cdc-effa-4ba9-8db9-c172a2490c79",
   "metadata": {},
   "outputs": [],
   "source": [
    "def line_between(start,end):\n",
    "    \"\"\"Find the intermediate points on a line from (x0,y0) to (x1,y1).\n",
    "\n",
    "    Parameters\n",
    "    ------------\n",
    "    start: tuple\n",
    "        Contains x0 and y0\n",
    "    end: tuple\n",
    "        Contains x1 and y1\n",
    "\n",
    "    Returns\n",
    "    --------\n",
    "    list\n",
    "        List of all intermediate points (x,y)\n",
    "\n",
    "    \"\"\"\n",
    "    x0,y0 = start\n",
    "    x1,y1 = end\n",
    "    #This extracts the individual coordinates from the start and end tuples.\n",
    "    N = max(abs(x1 - x0) + 1, abs(y1 - y0) + 1) #calculate the number of steps\n",
    "    #Calculate the incremental step sizes\n",
    "    dx = (x1 - x0) / (N - 1) #for stepping in lon or x\n",
    "    dy = (y1 - y0) / (N - 1) #for stepping in lat or y\n",
    "    #the steps secure the evenly spaced points between the start and end\n",
    "\n",
    "    #Generate the intermediate points\n",
    "    xx = (round(x0 + n * dx) for n in range(N))\n",
    "    yy = (round(y0 + n * dy) for n in range(N))\n",
    "    #Combines the x and y coordinates into a list of tuples \n",
    "    return list(zip(xx,yy))\n",
    "\n",
    "def line_between_sequence(points):\n",
    "    \"\"\" Fill in lines on all segments of points.\n",
    "\n",
    "    Parameters\n",
    "    ----------\n",
    "    points: list\n",
    "        List of points (x,y).\n",
    "\n",
    "    Returns\n",
    "    -------\n",
    "    list\n",
    "        List of points(x,y) with all segments filled in.\n",
    "\n",
    "    \"\"\"\n",
    "\n",
    "    segments = [\n",
    "    line_between(start,end)[:-1]\n",
    "    for start, end in zip(points[:-1], points[1:])\n",
    "    ] + [points[-1:], ]\n",
    "    return reduce(add, segments)"
   ]
  },
  {
   "cell_type": "code",
   "execution_count": null,
   "id": "3dd8a639-b7d3-42c9-9a0b-8291ee5526b7",
   "metadata": {
    "editable": true,
    "slideshow": {
     "slide_type": ""
    },
    "tags": []
   },
   "outputs": [],
   "source": [
    "skip_this_step = abs(ds_traj.lon.diff('obs')) > 4.0\n",
    "ds_traj_nowrap = ds_traj.where(~skip_this_step)"
   ]
  },
  {
   "cell_type": "code",
   "execution_count": null,
   "id": "d578895e-0ffa-4316-959b-61944449979a",
   "metadata": {
    "editable": true,
    "slideshow": {
     "slide_type": ""
    },
    "tags": []
   },
   "outputs": [],
   "source": [
    "### Unrolling\n",
    "ad_lon = 0 + 4.5 * (ds_traj.lon.diff('obs') < -4) - 4.5 * (ds_traj.lon.diff('obs') > 4)\n",
    "lon_unrolled = (ds_traj.lon + ad_lon.cumsum('obs')) #we accumulate the corrections \n",
    "##Binning\n",
    "Nx = 45 #~4.5\n",
    "Ny = 180 #~18.0\n",
    "\n",
    "#Each ghost image band corresponds to an increment of 4.5 longitude units.\n",
    "#Creates ghost images in left and right \n",
    "pix_replica_lon = lon_unrolled.min().compute().data[()] //4.5 , lon_unrolled.max().compute().data[()] //4.5 + 1\n",
    "pix_x_unrolled = np.arange(pix_replica_lon[0] * Nx, pix_replica_lon[1] * Nx).astype(int)\n",
    "\n",
    "lon_bds = (int(pix_replica_lon[0] *4.5), int(pix_replica_lon[1] * 4.5))\n",
    "lat_bds = (0,18)\n",
    "lon_bds_base = (0,4.5)\n",
    "lon_bds, lat_bds"
   ]
  },
  {
   "cell_type": "code",
   "execution_count": null,
   "id": "aa16c8b9-7f76-485d-b81c-b9ecd55829ae",
   "metadata": {},
   "outputs": [],
   "source": [
    "dens = np.zeros((Ny,Nx), dtype=int)\n",
    "## check the error of the tranpositn\n",
    "for traj in tqdm.tqdm(ds_traj.trajectory.isel(trajectory=slice(None,None,1)).data):\n",
    "    lon_traj = lon_unrolled.sel(trajectory=traj).compute().data\n",
    "    lat_traj = ds_traj.lat.sel(trajectory=traj).compute().data\n",
    "    point_list = list(zip(      \n",
    "        np.digitize(lat_traj, np.linspace(*lat_bds, Ny)).astype(int) -1,\n",
    "        np.digitize(lon_traj, np.linspace(*lon_bds, int((pix_replica_lon[1] - pix_replica_lon[0]) * Nx))).astype(int)-1,\n",
    "    ))\n",
    "\n",
    "    #drop the duplicates\n",
    "    point_list = [i for i, j in zip_longest(point_list, point_list[1:]) if i !=j]\n",
    "    pos,count = np.unique(np.array(line_between_sequence(point_list)), axis=0, return_counts = True)\n",
    "    #wrap back to Nx and Ny\n",
    "    pos = pos % [Ny,Nx]\n",
    "    dens[*pos.T] +=count\n",
    "    #break"
   ]
  },
  {
   "cell_type": "code",
   "execution_count": null,
   "id": "135199e4-ecea-4b22-a2a3-1f7808d03279",
   "metadata": {},
   "outputs": [],
   "source": [
    "dens_array = xr.DataArray(\n",
    "    dens,\n",
    "    dims = ('lat','lon'),\n",
    "    coords = {\n",
    "        'lat':np.linspace(*lat_bds, Ny), \n",
    "        'lon':np.linspace(*lon_bds_base, Nx), \n",
    "    },\n",
    ")\n",
    "\n",
    "dens_array.plot.imshow(cmap=cm.thermal)"
   ]
  },
  {
   "cell_type": "code",
   "execution_count": null,
   "id": "6e4d8316-90c5-4c37-9380-ebfcd8bf924a",
   "metadata": {
    "editable": true,
    "slideshow": {
     "slide_type": ""
    },
    "tags": []
   },
   "outputs": [],
   "source": [
    "# Plot the data\n",
    "fig, ax = plt.subplots(figsize=(10, 8))  # Adjust the figure size as needed\n",
    "dens_array.plot.imshow(ax=ax, cmap=cm.thermal)\n",
    "plt.title(\"Density Distribution\", fontsize=16)  # Add a title if needed\n",
    "plt.xlabel(\"Longitude\", fontsize=14)\n",
    "plt.ylabel(\"Latitude\", fontsize=14)\n",
    "\n",
    "# Save the figure\n",
    "plt.savefig(f\"particle_{rnd}.png\", dpi=300, bbox_inches=\"tight\")  # Save the figure\n",
    "plt.show()\n",
    "\n",
    "#f\"{path1}/u.{year}*.nc\""
   ]
  }
 ],
 "metadata": {
  "kernelspec": {
   "display_name": "Python 3 (ipykernel)",
   "language": "python",
   "name": "python3"
  },
  "language_info": {
   "codemirror_mode": {
    "name": "ipython",
    "version": 3
   },
   "file_extension": ".py",
   "mimetype": "text/x-python",
   "name": "python",
   "nbconvert_exporter": "python",
   "pygments_lexer": "ipython3",
   "version": "3.11.10"
  }
 },
 "nbformat": 4,
 "nbformat_minor": 5
}
