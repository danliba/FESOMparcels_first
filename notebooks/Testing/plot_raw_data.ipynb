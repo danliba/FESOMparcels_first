{
 "cells": [
  {
   "cell_type": "code",
   "execution_count": null,
   "id": "d433ba19-1bdf-470f-aca8-172dfdcbd8ca",
   "metadata": {
    "tags": []
   },
   "outputs": [],
   "source": [
    "# Import libraries\n",
    "\n",
    "import numpy as np\n",
    "import xarray as xr\n",
    "import matplotlib.pyplot as plt\n",
    "import datetime\n",
    "import cmocean\n",
    "import sys\n",
    "import pyfesom2 as pf"
   ]
  },
  {
   "cell_type": "code",
   "execution_count": null,
   "id": "8b6d8609-dfb8-4ce4-acb4-87a159b69358",
   "metadata": {},
   "outputs": [],
   "source": [
    "pwd"
   ]
  },
  {
   "cell_type": "code",
   "execution_count": null,
   "id": "33c569ce-8c76-4949-a9fc-80ed0866f5c8",
   "metadata": {},
   "outputs": [],
   "source": [
    "pf.load_mesh?"
   ]
  },
  {
   "cell_type": "code",
   "execution_count": null,
   "id": "b87cb004-a208-467c-af04-46bb5a2645d7",
   "metadata": {
    "tags": []
   },
   "outputs": [],
   "source": [
    "# Load the mesh\n",
    "\n",
    "alpha, beta, gamma=[0, 0, 0]\n",
    "print(\"mesh will be loaded\")\n",
    "# Insert your custom path\n",
    "meshpath = '/gxfs_work/geomar/smomw662/fesom_parcels_001/data/channel/'\n",
    "mesh = pf.load_mesh(meshpath, abg=[alpha, beta, gamma], usepickle = False)\n",
    "#resultpath = f'{meshpath}results/'"
   ]
  },
  {
   "cell_type": "code",
   "execution_count": null,
   "id": "beb27574-1aeb-47a7-adb1-e393ff6b7450",
   "metadata": {},
   "outputs": [],
   "source": [
    "print(meshpath)"
   ]
  },
  {
   "cell_type": "code",
   "execution_count": null,
   "id": "1033bcf9-858b-4742-bc84-4d2deb23e8dc",
   "metadata": {},
   "outputs": [],
   "source": [
    "meshdiag = xr.open_mfdataset(f'{meshpath}/fesom.mesh.diag.nc')"
   ]
  },
  {
   "cell_type": "code",
   "execution_count": null,
   "id": "ab39c985-60e9-4382-b444-7a6cfd56aa5e",
   "metadata": {},
   "outputs": [],
   "source": [
    "meshdiag"
   ]
  },
  {
   "cell_type": "code",
   "execution_count": null,
   "id": "d5795395-96f9-40c9-98a8-53f729737820",
   "metadata": {},
   "outputs": [],
   "source": [
    "meshdiag.*?"
   ]
  },
  {
   "cell_type": "code",
   "execution_count": null,
   "id": "38fb5744-637e-4ae6-a8b2-57a7043857d6",
   "metadata": {},
   "outputs": [],
   "source": [
    "print(meshdiag)"
   ]
  },
  {
   "cell_type": "code",
   "execution_count": null,
   "id": "ea123acd-6802-4b89-9b8a-9acef8fdc0df",
   "metadata": {},
   "outputs": [],
   "source": [
    "# Use the 'elem' dimension size directly\n",
    "elem_n = meshdiag.dims[\"elem\"]\n",
    "\n",
    "# Initialize arrays based on the number of elements\n",
    "xx2 = np.zeros(shape=(elem_n)) \n",
    "yy2 = np.zeros(shape=(elem_n))"
   ]
  },
  {
   "cell_type": "code",
   "execution_count": null,
   "id": "ddea10fe-d8d8-4eea-98a1-4d0f4bafe12e",
   "metadata": {},
   "outputs": [],
   "source": [
    "mesh.*?\n"
   ]
  },
  {
   "cell_type": "code",
   "execution_count": null,
   "id": "72c1742a-8728-4b63-9905-a8aa0e6d3792",
   "metadata": {},
   "outputs": [],
   "source": [
    "print(xx2.shape)\n",
    "print(yy2.shape)"
   ]
  },
  {
   "cell_type": "code",
   "execution_count": null,
   "id": "7c820b6a-ef9b-4a8f-8623-c0c933f38f57",
   "metadata": {},
   "outputs": [],
   "source": [
    "mesh.x2[mesh.elem[1,:]].mean(axis=0)"
   ]
  },
  {
   "cell_type": "code",
   "execution_count": null,
   "id": "7f67f515-982d-4588-937c-1aa7718920fc",
   "metadata": {
    "tags": []
   },
   "outputs": [],
   "source": [
    "# Set up X and Y for elements\n",
    "\n",
    "# elem_n = meshdiag.elem.shape[1]\n",
    "\n",
    "# xx2=np.zeros(shape=(elem_n)) \n",
    "# yy2=np.zeros(shape=(elem_n))\n",
    "\n",
    "for i in np.arange(0,elem_n):\n",
    "    xx2[i]=mesh.x2[mesh.elem[i,:]].mean(axis=0)\n",
    "    yy2[i]=mesh.y2[mesh.elem[i,:]].mean(axis=0)"
   ]
  },
  {
   "cell_type": "code",
   "execution_count": null,
   "id": "219f03a4-da34-4d36-8adb-3b6aab94b9b4",
   "metadata": {
    "tags": []
   },
   "outputs": [],
   "source": [
    "# Data selection\n",
    "str_id = 'u'\n",
    "year = 1960\n",
    "level = 0\n",
    "time = -1\n",
    "dat = xr.open_dataset(f'{meshpath}/{str_id}.fesom.{year}.nc')[str_id]\n",
    "dat = dat.isel(time=time, nz1=level) # may need to change nz1 to nz, depending on quantity you plot\n",
    "dat = dat.squeeze()"
   ]
  },
  {
   "cell_type": "code",
   "execution_count": null,
   "id": "b5f7f9bf-b2ef-4bcd-91f4-bc3ec3aa0495",
   "metadata": {
    "tags": []
   },
   "outputs": [],
   "source": [
    "# Choose correct X and Y for quantities on nodes or elements\n",
    "if 'nod2' in dat.dims:\n",
    "    X = meshdiag.lon\n",
    "    Y = meshdiag.lat\n",
    "elif 'elem' in dat.dims:\n",
    "    X = xx2\n",
    "    Y = yy2\n",
    "else:\n",
    "    print('Error!')"
   ]
  },
  {
   "cell_type": "code",
   "execution_count": null,
   "id": "13abeea8-7b50-4e52-b379-6955a691be20",
   "metadata": {
    "scrolled": true,
    "tags": []
   },
   "outputs": [],
   "source": [
    "vmin, vmax = np.round(dat.min().values), np.round(dat.max().values)\n",
    "cmap = cmocean.cm.thermal\n",
    "\n",
    "cbartext, cont\t= f'{str_id} / {dat.units}', [vmin, vmax, .001]\n",
    "bounds=np.linspace(vmin,vmax,100)\n",
    "fig, ax = plt.subplots(figsize=(5,20))\n",
    "#plt.gca().set_aspect('equal')\n",
    "\n",
    "im = ax.tripcolor(X, Y, dat, shading='flat', cmap=cmap) \n",
    "\n",
    "plt.tick_params(axis='both', labelsize=20)\n",
    "plt.xlabel('deg', size=20)\n",
    "plt.ylabel('deg', size=20)\n",
    "\n",
    "cbar = fig.colorbar(im, orientation='horizontal', pad=.05, extend='both') #  ticks=[v_min, 0, v_max],\n",
    "im.set_clim(vmin, vmax)\n",
    "cbar.set_label(cbartext, size=20)\n",
    "#cbar.set_ticks([round(i,8) for i in np.linspace(cont[0], cont[1], 5)], fontsize=20)\n",
    "#cbar.set_ticklabels([round(i,8) for i in np.linspace(cont[0], cont[1], 5)], fontsize=20)\n",
    "cbar.ax.tick_params(labelsize=20)\n",
    "plt.title(f'{dat.time.values}, (level,nz1)=({level},{dat.nz1.values})')\n",
    "\n",
    "plt.savefig('Channel_u_plot'+'.png',\n",
    "    format='png', dpi=300, transparent=False, bbox_inches='tight')\n",
    "plt.show(block=True)\n",
    "\n"
   ]
  },
  {
   "cell_type": "code",
   "execution_count": null,
   "id": "722b32bd-a575-40f1-9fba-b193fbeacf9b",
   "metadata": {},
   "outputs": [],
   "source": []
  },
  {
   "cell_type": "code",
   "execution_count": null,
   "id": "4761e0aa-830d-4744-a5d5-433bb4696024",
   "metadata": {},
   "outputs": [],
   "source": [
    "print(dat)"
   ]
  }
 ],
 "metadata": {
  "kernelspec": {
   "display_name": "Python 3 (ipykernel)",
   "language": "python",
   "name": "python3"
  },
  "language_info": {
   "codemirror_mode": {
    "name": "ipython",
    "version": 3
   },
   "file_extension": ".py",
   "mimetype": "text/x-python",
   "name": "python",
   "nbconvert_exporter": "python",
   "pygments_lexer": "ipython3",
   "version": "3.11.10"
  }
 },
 "nbformat": 4,
 "nbformat_minor": 5
}
