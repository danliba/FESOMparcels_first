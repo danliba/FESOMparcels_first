{
 "cells": [
  {
   "cell_type": "code",
   "execution_count": 1,
   "id": "bd9a05ec-257c-4503-85ca-040bdcfc87c2",
   "metadata": {
    "editable": true,
    "slideshow": {
     "slide_type": ""
    },
    "tags": []
   },
   "outputs": [],
   "source": [
    "from parcels import ParticleSet\n",
    "from parcels import JITParticle\n",
    "from parcels import AdvectionRK4_3D\n",
    "from parcels import AdvectionRK4\n",
    "from datetime import timedelta\n",
    "import numpy as np\n",
    "from parcels import FieldSet\n",
    "from glob import glob\n",
    "import xarray as xr"
   ]
  },
  {
   "cell_type": "code",
   "execution_count": 6,
   "id": "bc147cbe-243e-48a8-a58a-2eb0d2a830f5",
   "metadata": {
    "editable": true,
    "slideshow": {
     "slide_type": ""
    },
    "tags": [
     "parameters"
    ]
   },
   "outputs": [],
   "source": [
    "## parameters\n",
    "## set the number of particles\n",
    "num_particles = 10_000\n",
    "\n",
    "## Set the location of the particles\n",
    "channel_lon_bds = (0,4.5) # use inmutable objects\n",
    "channel_lat_bds = (0+1,18-1)\n",
    "\n",
    "## set the tracking time\n",
    "days = 360\n",
    "minutes = 20\n",
    "\n",
    "## record the particles every timestep of\n",
    "hours=4"
   ]
  },
  {
   "cell_type": "code",
   "execution_count": 3,
   "id": "2cc689d0-62b7-4c4d-83ac-59d36b916f70",
   "metadata": {
    "editable": true,
    "slideshow": {
     "slide_type": ""
    },
    "tags": []
   },
   "outputs": [],
   "source": [
    "##prepare the files\n",
    "path1= '/gxfs_work/geomar/smomw662/FESOM_data/channel_interp'\n",
    "\n",
    "ds_w = xr.open_mfdataset(\"/gxfs_work/geomar/smomw662/FESOM_data/channel_interp/w.196*.nc\")\n",
    "ds_v = xr.open_mfdataset(\"/gxfs_work/geomar/smomw662/FESOM_data/channel_interp/v.196*.nc\")\n",
    "ds_u = xr.open_mfdataset(\"/gxfs_work/geomar/smomw662/FESOM_data/channel_interp/u.196*.nc\")\n",
    "\n",
    "ds_u=ds_u.drop_vars('nz')\n",
    "ds_v=ds_v.drop_vars('nz')\n",
    "ds_w=ds_w.drop_vars('nz')\n",
    "\n",
    "ds_uvw_grid= xr.Dataset({\n",
    "    'U':ds_u.u,\n",
    "    \"V\":ds_v.v,\n",
    "    \"W\":ds_w.w,\n",
    "})\n",
    "\n",
    "## starting positions\n",
    "lon_start = np.random.uniform(*channel_lon_bds,size=(num_particles,)) \n",
    "lat_start = np.random.uniform(*channel_lat_bds, size=(num_particles,))"
   ]
  },
  {
   "cell_type": "code",
   "execution_count": 4,
   "id": "e004711e-67c2-4fc0-9597-9d956e1fcb84",
   "metadata": {
    "editable": true,
    "slideshow": {
     "slide_type": ""
    },
    "tags": []
   },
   "outputs": [],
   "source": [
    "ds_uvw_grid = ds_uvw_grid.compute()"
   ]
  },
  {
   "cell_type": "code",
   "execution_count": 5,
   "id": "0e987483-158e-46dd-956a-e817102eb403",
   "metadata": {
    "editable": true,
    "slideshow": {
     "slide_type": ""
    },
    "tags": []
   },
   "outputs": [],
   "source": [
    "## fieldset\n",
    "fieldset = FieldSet.from_xarray_dataset(\n",
    "    ds_uvw_grid.transpose('time','z','grid_lat','grid_lon'),\n",
    "    variables={'U':\"U\", \"V\":\"V\", \"W\":\"W\"},\n",
    "    dimensions={'lon':'grid_lon',\n",
    "                'lat':'grid_lat',\n",
    "                'depth':'z',\n",
    "                'time':'time',\n",
    "               },\n",
    "    time_periodic=False,\n",
    "    allow_time_extrapolation=False,\n",
    ")"
   ]
  },
  {
   "cell_type": "code",
   "execution_count": 7,
   "id": "8772c7ae-ba7b-4a83-8bdc-77a994948d99",
   "metadata": {
    "editable": true,
    "slideshow": {
     "slide_type": ""
    },
    "tags": []
   },
   "outputs": [],
   "source": [
    "#halo\n",
    "fieldset.add_constant(\"halo_west\", fieldset.U.grid.lon[0])\n",
    "fieldset.add_constant(\"halo_east\", fieldset.U.grid.lon[-1])\n",
    "fieldset.add_periodic_halo(zonal=True)\n",
    "\n",
    "def periodicBC(particle,fielset,time):\n",
    "    if particle.lon < fieldset.halo_west:\n",
    "        particle_dlon += fieldset.halo_east - fieldset.halo_west\n",
    "    elif particle.lon > fieldset.halo_east:\n",
    "        particle_dlon -= fieldset.halo_east - fieldset.halo_west"
   ]
  },
  {
   "cell_type": "code",
   "execution_count": 8,
   "id": "f5e21563-2954-410e-bc0c-686de278537f",
   "metadata": {
    "editable": true,
    "slideshow": {
     "slide_type": ""
    },
    "tags": []
   },
   "outputs": [],
   "source": [
    "## Time and depth initial conditios\n",
    "time = np.repeat(ds_uvw_grid.time[0].data, num_particles)  # Assign the same time to all particles\n",
    "depth = np.random.uniform(10,50, size=num_particles)  # Choose random depths"
   ]
  },
  {
   "cell_type": "code",
   "execution_count": 9,
   "id": "ba2ab4ae-7691-4a5a-a4c0-25e8214a93ba",
   "metadata": {
    "editable": true,
    "slideshow": {
     "slide_type": ""
    },
    "tags": []
   },
   "outputs": [],
   "source": [
    "#Init particle set\n",
    "pset = ParticleSet(\n",
    "    fieldset=fieldset,\n",
    "    pclass=JITParticle,\n",
    "    lon = lon_start,\n",
    "    lat = lat_start,\n",
    "    depth=depth,\n",
    "    time=time\n",
    ") "
   ]
  },
  {
   "cell_type": "code",
   "execution_count": 10,
   "id": "dbf92a9b-2b9e-491b-a4df-8cd02ac8f67b",
   "metadata": {
    "editable": true,
    "slideshow": {
     "slide_type": ""
    },
    "tags": []
   },
   "outputs": [],
   "source": [
    "out_path = '/gxfs_work/geomar/smomw662/FESOMparcels_first/data/' #path to store the particle zarr\n",
    "out_fn = 'Parcels_run_2'\n",
    "\n",
    "output_file = pset.ParticleFile(name=out_path+out_fn, \n",
    "                                outputdt=timedelta(hours=hours))"
   ]
  },
  {
   "cell_type": "code",
   "execution_count": null,
   "id": "54a33675-ba74-4d71-9dbf-6e929086ab38",
   "metadata": {
    "editable": true,
    "slideshow": {
     "slide_type": ""
    },
    "tags": []
   },
   "outputs": [
    {
     "name": "stdout",
     "output_type": "stream",
     "text": [
      "INFO: Output files are stored in /gxfs_work/geomar/smomw662/FESOMparcels_first/data/Parcels_run.zarr.\n",
      "  0%|▏                                | 144000.0/31104000.0 [02:20<6:59:27, 1230.17it/s]"
     ]
    }
   ],
   "source": [
    "## Execute particles\n",
    "pset.execute(\n",
    "    [AdvectionRK4_3D,periodicBC],\n",
    "    runtime=timedelta(days=days),\n",
    "    dt=timedelta(minutes=minutes),\n",
    "    output_file= output_file\n",
    ")"
   ]
  }
 ],
 "metadata": {
  "kernelspec": {
   "display_name": "Python 3 (ipykernel)",
   "language": "python",
   "name": "python3"
  },
  "language_info": {
   "codemirror_mode": {
    "name": "ipython",
    "version": 3
   },
   "file_extension": ".py",
   "mimetype": "text/x-python",
   "name": "python",
   "nbconvert_exporter": "python",
   "pygments_lexer": "ipython3",
   "version": "3.11.10"
  }
 },
 "nbformat": 4,
 "nbformat_minor": 5
}
