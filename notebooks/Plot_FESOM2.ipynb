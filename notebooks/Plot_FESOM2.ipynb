{
 "cells": [
  {
   "cell_type": "markdown",
   "id": "c76c2423-7cbc-4cb3-ab3c-206a258ef36a",
   "metadata": {
    "editable": true,
    "slideshow": {
     "slide_type": ""
    },
    "tags": []
   },
   "source": [
    "## Plot FESOM2 data"
   ]
  },
  {
   "cell_type": "code",
   "execution_count": null,
   "id": "bb455d56-7ded-4daa-ab57-715addca35e0",
   "metadata": {},
   "outputs": [],
   "source": [
    "!pip install --upgrade pyfesom2"
   ]
  },
  {
   "cell_type": "code",
   "execution_count": 14,
   "id": "654946c6-f931-40d0-a34d-8efe131ca6f3",
   "metadata": {
    "editable": true,
    "slideshow": {
     "slide_type": ""
    },
    "tags": []
   },
   "outputs": [
    {
     "ename": "ImportError",
     "evalue": "cannot import name 'ind_for_depthe' from 'pyfesom2' (/gxfs_home/geomar/smomw662/.local/lib/python3.11/site-packages/pyfesom2/__init__.py)",
     "output_type": "error",
     "traceback": [
      "\u001b[0;31m---------------------------------------------------------------------------\u001b[0m",
      "\u001b[0;31mImportError\u001b[0m                               Traceback (most recent call last)",
      "Cell \u001b[0;32mIn[14], line 9\u001b[0m\n\u001b[1;32m      5\u001b[0m \u001b[38;5;66;03m# import basemap\u001b[39;00m\n\u001b[1;32m      6\u001b[0m \u001b[38;5;66;03m# from mpl_toolkits.basemap import Basemap\u001b[39;00m\n\u001b[1;32m      7\u001b[0m \u001b[38;5;66;03m# import FESOM packages\u001b[39;00m\n\u001b[1;32m      8\u001b[0m sys\u001b[38;5;241m.\u001b[39mpath\u001b[38;5;241m.\u001b[39mappend(\u001b[38;5;124m\"\u001b[39m\u001b[38;5;124mchannel/\u001b[39m\u001b[38;5;124m\"\u001b[39m)\n\u001b[0;32m----> 9\u001b[0m \u001b[38;5;28;01mfrom\u001b[39;00m \u001b[38;5;21;01mpyfesom2\u001b[39;00m \u001b[38;5;28;01mimport\u001b[39;00m load_mesh, ind_for_depthe, ftriplot, fesom2clim, wplot_xy, read_fesom_sect\n\u001b[1;32m     10\u001b[0m \u001b[38;5;66;03m# from load_mesh_data import *\u001b[39;00m\n\u001b[1;32m     11\u001b[0m \u001b[38;5;66;03m# from regriding import fesom2clim\u001b[39;00m\n\u001b[1;32m     12\u001b[0m \u001b[38;5;66;03m# sys.path.append(\"/home/h/hbkdsido/utils/seawater-1.1/\")\u001b[39;00m\n\u001b[1;32m     13\u001b[0m \u001b[38;5;66;03m# import seawater as sw\u001b[39;00m\n\u001b[1;32m     14\u001b[0m \u001b[38;5;66;03m# from fesom_plot_tools import *\u001b[39;00m\n\u001b[1;32m     15\u001b[0m \u001b[38;5;28;01mfrom\u001b[39;00m \u001b[38;5;21;01mnetCDF4\u001b[39;00m \u001b[38;5;28;01mimport\u001b[39;00m Dataset\n",
      "\u001b[0;31mImportError\u001b[0m: cannot import name 'ind_for_depthe' from 'pyfesom2' (/gxfs_home/geomar/smomw662/.local/lib/python3.11/site-packages/pyfesom2/__init__.py)"
     ]
    }
   ],
   "source": [
    "# import standard python packages\n",
    "import sys\n",
    "import numpy as np\n",
    "import os\n",
    "# import basemap\n",
    "# from mpl_toolkits.basemap import Basemap\n",
    "# import FESOM packages\n",
    "sys.path.append(\"channel/\")\n",
    "from pyfesom2 import load_mesh, ind_for_depthe, ftriplot, fesom2clim, wplot_xy, read_fesom_sect\n",
    "# from load_mesh_data import *\n",
    "# from regriding import fesom2clim\n",
    "# sys.path.append(\"/home/h/hbkdsido/utils/seawater-1.1/\")\n",
    "# import seawater as sw\n",
    "# from fesom_plot_tools import *\n",
    "from netCDF4 import Dataset\n",
    "import cmocean.cm as cmo\n",
    "import matplotlib\n",
    "import matplotlib.pylab as plt\n",
    "fontsize=20\n",
    "matplotlib.rc('xtick', labelsize=fontsize)\n",
    "matplotlib.rc('ytick', labelsize=fontsize)"
   ]
  },
  {
   "cell_type": "code",
   "execution_count": 4,
   "id": "fc276019-446c-4700-b62f-e66cb76e1f63",
   "metadata": {
    "editable": true,
    "slideshow": {
     "slide_type": ""
    },
    "tags": []
   },
   "outputs": [],
   "source": [
    "from mpl_toolkits.basemap import Basemap"
   ]
  },
  {
   "cell_type": "code",
   "execution_count": 5,
   "id": "49666463-427a-433a-8a84-cbd4f65dee1f",
   "metadata": {},
   "outputs": [
    {
     "data": {
      "text/plain": [
       "'/gxfs_work/geomar/smomw662/fesom_parcels_001/data'"
      ]
     },
     "execution_count": 5,
     "metadata": {},
     "output_type": "execute_result"
    }
   ],
   "source": [
    "pwd"
   ]
  },
  {
   "cell_type": "code",
   "execution_count": null,
   "id": "ee2bb4e0-0eea-413a-8e4f-dac75ae369e8",
   "metadata": {
    "editable": true,
    "slideshow": {
     "slide_type": ""
    },
    "tags": []
   },
   "outputs": [],
   "source": [
    "# set the path to the mesh\n",
    "#meshpath  ='/home/ollie/nkolduno/meshes/pi-grid/'\n",
    "meshpath  ='../data/channel'\n",
    "#meshpath  ='/work/ollie/ogurses/NATMAP/mesh_F2GLO08/'\n",
    "alpha, beta, gamma=[50, 15, -90]\n",
    "#alpha, beta, gamma=[0, 0, 0]\n",
    "try:\n",
    "    mesh\n",
    "except NameError:\n",
    "    print(\"mesh will be loaded\")\n",
    "    mesh=load_mesh(meshpath, abg=[alpha, beta, gamma], usepickle = False)\n",
    "else:\n",
    "    print(\"mesh with this name already exists and will not be loaded\")"
   ]
  },
  {
   "cell_type": "code",
   "execution_count": null,
   "id": "c304b572-24c6-4bbf-9d19-a7a7abec6795",
   "metadata": {},
   "outputs": [],
   "source": [
    "# set the paths to the results, runid, etc.\n",
    "result_path ='/Users/koldunovn/PYHTON/DATA/CORE_out/'\n",
    "runid ='fesom'\n",
    "str_id='temp'\n",
    "\n",
    "# specify depth, records and year to read\n",
    "depth, records, year=300, np.linspace(0,0,1).astype(int), 2000\n",
    "\n",
    "# set the label for the colorbar & contour intervals for ftriplot\n",
    "cbartext, cont = '$^\\circ$C', [-1., 3., .1]\n",
    "\n",
    "# get the closest model depth to the desired one\n",
    "ilev=ind_for_depth(depth, mesh)\n",
    "\n",
    "# read the model result from str_id.XXXX.nc\n",
    "data=read_fesom_slice(str_id, records, year, mesh, result_path, runid, ilev=ilev)\n",
    "\n",
    "# choose the colorbar and plot the data\n",
    "cmap=cmo.balance\n",
    "fig =plt.figure(figsize=(12,8))\n",
    "\n",
    "# ftriplot is defined in fesom_plot_tools.py\n",
    "data[data==0]=np.nan\n",
    "[im, map, cbar]=ftriplot(mesh, data, np.linspace(cont[0], cont[1], 20), oce='global', cmap=cmap)\n",
    "cbar.set_label(cbartext, fontsize=22)\n",
    "cbar.set_ticks([round(i,7) for i in np.linspace(cont[0], cont[1], 5)])\n",
    "cbar.ax.tick_params(labelsize=22)"
   ]
  }
 ],
 "metadata": {
  "kernelspec": {
   "display_name": "Python 3 (ipykernel)",
   "language": "python",
   "name": "python3"
  },
  "language_info": {
   "codemirror_mode": {
    "name": "ipython",
    "version": 3
   },
   "file_extension": ".py",
   "mimetype": "text/x-python",
   "name": "python",
   "nbconvert_exporter": "python",
   "pygments_lexer": "ipython3",
   "version": "3.11.10"
  }
 },
 "nbformat": 4,
 "nbformat_minor": 5
}
