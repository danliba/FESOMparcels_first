{
 "cells": [
  {
   "cell_type": "code",
   "execution_count": 1,
   "id": "599154e1-9909-499a-b440-d8cd07f1f1ff",
   "metadata": {
    "editable": true,
    "slideshow": {
     "slide_type": ""
    },
    "tags": []
   },
   "outputs": [],
   "source": [
    "import xarray as xr\n",
    "import numpy as np\n",
    "import xoak\n",
    "from matplotlib import pyplot as plt\n",
    "from cmocean import cm # for oceanography-specific colormaps\n",
    "import tqdm\n",
    "from itertools import zip_longest\n",
    "from functools import reduce\n",
    "from operator import add\n",
    "from pathlib import Path\n"
   ]
  },
  {
   "cell_type": "code",
   "execution_count": null,
   "id": "5c4a8c09-c9ea-494b-9d6f-d3e44bd45bc5",
   "metadata": {},
   "outputs": [],
   "source": [
    "ds_traj = xr.open_zarr('/gxfs_work/geomar/smomw662/FESOMparcels_first/data/Parcels_run_1960-01-01.zarr')\n",
    "ds_traj = ds_traj.compute()\n",
    "ds_traj"
   ]
  },
  {
   "cell_type": "code",
   "execution_count": null,
   "id": "89cea454-54e8-4258-a636-34a76b2be515",
   "metadata": {},
   "outputs": [],
   "source": [
    "def line_between(start,end):\n",
    "    \"\"\"Find the intermediate points on a line from (x0,y0) to (x1,y1).\n",
    "\n",
    "    Parameters\n",
    "    ------------\n",
    "    start: tuple\n",
    "        Contains x0 and y0\n",
    "    end: tuple\n",
    "        Contains x1 and y1\n",
    "\n",
    "    Returns\n",
    "    --------\n",
    "    list\n",
    "        List of all intermediate points (x,y)\n",
    "\n",
    "    \"\"\"\n",
    "    x0,y0 = start\n",
    "    x1,y1 = end\n",
    "    #This extracts the individual coordinates from the start and end tuples.\n",
    "    N = max(abs(x1 - x0) + 1, abs(y1 - y0) + 1) #calculate the number of steps\n",
    "    #Calculate the incremental step sizes\n",
    "    dx = (x1 - x0) / (N - 1) #for stepping in lon or x\n",
    "    dy = (y1 - y0) / (N - 1) #for stepping in lat or y\n",
    "    #the steps secure the evenly spaced points between the start and end\n",
    "\n",
    "    #Generate the intermediate points\n",
    "    xx = (round(x0 + n * dx) for n in range(N))\n",
    "    yy = (round(y0 + n * dy) for n in range(N))\n",
    "    #Combines the x and y coordinates into a list of tuples \n",
    "    return list(zip(xx,yy))\n",
    "\n",
    "def line_between_sequence(points):\n",
    "    \"\"\" Fill in lines on all segments of points.\n",
    "\n",
    "    Parameters\n",
    "    ----------\n",
    "    points: list\n",
    "        List of points (x,y).\n",
    "\n",
    "    Returns\n",
    "    -------\n",
    "    list\n",
    "        List of points(x,y) with all segments filled in.\n",
    "\n",
    "    \"\"\"\n",
    "\n",
    "    segments = [\n",
    "    line_between(start,end)[:-1]\n",
    "    for start, end in zip(points[:-1], points[1:])\n",
    "    ] + [points[-1:], ]\n",
    "    return reduce(add, segments)"
   ]
  },
  {
   "cell_type": "code",
   "execution_count": null,
   "id": "8ce4bef5-fdb1-4405-aef6-d903059a40ee",
   "metadata": {},
   "outputs": [],
   "source": [
    "skip_this_step = abs(ds_traj.lon.diff('obs')) > 4.0\n",
    "ds_traj_nowrap = ds_traj.where(~skip_this_step)"
   ]
  },
  {
   "cell_type": "code",
   "execution_count": null,
   "id": "964b1c71-b900-496d-ae40-213fc36a68c7",
   "metadata": {},
   "outputs": [],
   "source": [
    "### Unrolling\n",
    "ad_lon = 0 + 4.5 * (ds_traj.lon.diff('obs') < -4) - 4.5 * (ds_traj.lon.diff('obs') > 4)\n",
    "lon_unrolled = (ds_traj.lon + ad_lon.cumsum('obs')) #we accumulate the corrections \n",
    "##Binning\n",
    "Nx = 45 #~4.5\n",
    "Ny = 180 #~18.0\n",
    "\n",
    "#Each ghost image band corresponds to an increment of 4.5 longitude units.\n",
    "#Creates ghost images in left and right \n",
    "pix_replica_lon = lon_unrolled.min().compute().data[()] //4.5 , lon_unrolled.max().compute().data[()] //4.5 + 1\n",
    "pix_x_unrolled = np.arange(pix_replica_lon[0] * Nx, pix_replica_lon[1] * Nx).astype(int)\n",
    "\n",
    "lon_bds = (int(pix_replica_lon[0] *4.5), int(pix_replica_lon[1] * 4.5))\n",
    "lat_bds = (0,18)\n",
    "lon_bds_base = (0,4.5)\n",
    "lon_bds, lat_bds"
   ]
  },
  {
   "cell_type": "code",
   "execution_count": null,
   "id": "5009adb3-4dc9-4c56-a979-0a4f54292575",
   "metadata": {},
   "outputs": [],
   "source": [
    "dens = np.zeros((Ny,Nx), dtype=int)\n",
    "## check the error of the tranpositn\n",
    "for traj in tqdm.tqdm(ds_traj.trajectory.isel(trajectory=slice(None,None,1)).data):\n",
    "    lon_traj = lon_unrolled.sel(trajectory=traj).compute().data\n",
    "    lat_traj = ds_traj.lat.sel(trajectory=traj).compute().data\n",
    "    point_list = list(zip(      \n",
    "        np.digitize(lat_traj, np.linspace(*lat_bds, Ny)).astype(int) -1,\n",
    "        np.digitize(lon_traj, np.linspace(*lon_bds, int((pix_replica_lon[1] - pix_replica_lon[0]) * Nx))).astype(int)-1,\n",
    "    ))\n",
    "\n",
    "    #drop the duplicates\n",
    "    point_list = [i for i, j in zip_longest(point_list, point_list[1:]) if i !=j]\n",
    "    pos,count = np.unique(np.array(line_between_sequence(point_list)), axis=0, return_counts = True)\n",
    "    #wrap back to Nx and Ny\n",
    "    pos = pos % [Ny,Nx]\n",
    "    dens[*pos.T] +=count\n",
    "    #break"
   ]
  },
  {
   "cell_type": "code",
   "execution_count": null,
   "id": "48762d92-759e-4052-911a-d3293c7140c7",
   "metadata": {},
   "outputs": [],
   "source": [
    "dens_array = xr.DataArray(\n",
    "    dens,\n",
    "    dims = ('lat','lon'),\n",
    "    coords = {\n",
    "        'lat':np.linspace(*lat_bds, Ny), \n",
    "        'lon':np.linspace(*lon_bds_base, Nx), \n",
    "    },\n",
    ")\n",
    "\n",
    "dens_array.plot.imshow(cmap=cm.thermal)\n"
   ]
  },
  {
   "cell_type": "code",
   "execution_count": null,
   "id": "084694a5-a152-4901-8f7e-8daa33146d2b",
   "metadata": {},
   "outputs": [],
   "source": [
    "# Plot the data\n",
    "fig, ax = plt.subplots(figsize=(10, 8))  # Adjust the figure size as needed\n",
    "dens_array.plot.imshow(ax=ax, cmap=cm.thermal)\n",
    "plt.title(\"Density Distribution\", fontsize=16)  # Add a title if needed\n",
    "plt.xlabel(\"Longitude\", fontsize=14)\n",
    "plt.ylabel(\"Latitude\", fontsize=14)\n",
    "\n",
    "# Save the figure\n",
    "plt.savefig(\"particle_density.png\", dpi=300, bbox_inches=\"tight\")  # Save the figure\n",
    "plt.show()"
   ]
  }
 ],
 "metadata": {
  "kernelspec": {
   "display_name": "Python 3 (ipykernel)",
   "language": "python",
   "name": "python3"
  },
  "language_info": {
   "codemirror_mode": {
    "name": "ipython",
    "version": 3
   },
   "file_extension": ".py",
   "mimetype": "text/x-python",
   "name": "python",
   "nbconvert_exporter": "python",
   "pygments_lexer": "ipython3",
   "version": "3.11.10"
  }
 },
 "nbformat": 4,
 "nbformat_minor": 5
}
