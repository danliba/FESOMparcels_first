{
 "cells": [
  {
   "cell_type": "code",
   "execution_count": 1,
   "id": "7d08f49b-0246-4052-99b6-02f20d9bb487",
   "metadata": {
    "editable": true,
    "execution": {
     "iopub.execute_input": "2024-12-19T14:07:00.841645Z",
     "iopub.status.busy": "2024-12-19T14:07:00.841394Z",
     "iopub.status.idle": "2024-12-19T14:07:04.407724Z",
     "shell.execute_reply": "2024-12-19T14:07:04.407151Z"
    },
    "papermill": {
     "duration": 3.571181,
     "end_time": "2024-12-19T14:07:04.409363",
     "exception": false,
     "start_time": "2024-12-19T14:07:00.838182",
     "status": "completed"
    },
    "slideshow": {
     "slide_type": ""
    },
    "tags": []
   },
   "outputs": [],
   "source": [
    "import xarray as xr\n",
    "import numpy as np\n",
    "import xoak\n",
    "from matplotlib import pyplot as plt\n",
    "from cmocean import cm # for oceanography-specific colormaps\n",
    "from tqdm import tqdm\n",
    "#import parcels"
   ]
  },
  {
   "cell_type": "code",
   "execution_count": 2,
   "id": "6ede9390-6e4c-4e76-9be6-0c50e6844501",
   "metadata": {
    "editable": true,
    "execution": {
     "iopub.execute_input": "2024-12-19T14:07:04.414699Z",
     "iopub.status.busy": "2024-12-19T14:07:04.414119Z",
     "iopub.status.idle": "2024-12-19T14:07:04.430519Z",
     "shell.execute_reply": "2024-12-19T14:07:04.430037Z"
    },
    "papermill": {
     "duration": 0.0201,
     "end_time": "2024-12-19T14:07:04.431585",
     "exception": false,
     "start_time": "2024-12-19T14:07:04.411485",
     "status": "completed"
    },
    "slideshow": {
     "slide_type": ""
    },
    "tags": []
   },
   "outputs": [],
   "source": [
    "### to do\n",
    "def interp_fesom(\n",
    "    path1 = None ,\n",
    "    mesh_file = None, \n",
    "    u_file =  None,\n",
    "    v_file = None,\n",
    "    w_file = None,\n",
    "):\n",
    "    ds_mesh = xr.open_dataset(path1+mesh_file)\n",
    "    #now we define new coords\n",
    "    ds_mesh = ds_mesh.assign_coords(\n",
    "        nod2=list(range(1, ds_mesh.sizes[\"nod2\"]+1)), \n",
    "        elem=list(range(1,ds_mesh.sizes['elem']+1)),\n",
    "    )\n",
    "    \n",
    "    #corners\n",
    "    elem_corner_lons = ds_mesh.lon.sel(nod2=ds_mesh.face_nodes)\n",
    "    elem_corner_lats = ds_mesh.lat.sel(nod2=ds_mesh.face_nodes)\n",
    "    \n",
    "    max_elem_lon_range = 0.2\n",
    "    tri_overlap=(elem_corner_lons.max('n3') - elem_corner_lons.min('n3')) > max_elem_lon_range\n",
    "    \n",
    "    near_channel_width =4\n",
    "    channel_width = 4.5\n",
    "    elem_corner_lons_unglued = xr.where(tri_overlap & (elem_corner_lons > near_channel_width), \n",
    "                                       elem_corner_lons - channel_width, elem_corner_lons)\n",
    "    \n",
    "    \n",
    "    elem_center_lons_unglued = elem_corner_lons_unglued.mean('n3')\n",
    "    elem_center_lats = elem_corner_lats.mean('n3')\n",
    "    \n",
    "    elem_center_lons = elem_corner_lons.mean('n3')\n",
    "    \n",
    "    ## assign coordinates to the mesh\n",
    "    ds_mesh = ds_mesh.assign_coords(\n",
    "        elem_center_lons=elem_center_lons_unglued,\n",
    "        elem_center_lats=elem_center_lats,\n",
    "    )\n",
    "    #nearest neighbour interpolation\n",
    "    ds_mesh.xoak.set_index(['elem_center_lats','elem_center_lons'], 'sklearn_geo_balltree')\n",
    "    \n",
    "    channel_lon_bds = (0,4.5) # use inmutable objects\n",
    "    channel_lat_bds = (0,18)\n",
    "    nlon = 2*72 \n",
    "    nlat = 2*292\n",
    "\n",
    "    grid_lon = xr.DataArray(np.linspace(*channel_lon_bds,nlon), \n",
    "                            dims=('grid_lon',))\n",
    "    grid_lat = xr.DataArray(np.linspace(*channel_lat_bds,nlat),\n",
    "                            dims=('grid_lat',))\n",
    "    \n",
    "    #reorder the lat and lon into a C grid\n",
    "    target_lon, target_lat = xr.broadcast(grid_lon, grid_lat)\n",
    "    \n",
    "    #select the grid elements\n",
    "    grid_elems = ds_mesh.xoak.sel(\n",
    "        elem_center_lats = target_lat,\n",
    "        elem_center_lons = target_lon,\n",
    "    ).elem\n",
    "    \n",
    "    grid_elems = grid_elems.assign_coords(\n",
    "        target_lat = target_lat,\n",
    "        target_lon = target_lon,\n",
    "    )\n",
    "    \n",
    "    grid_elems = grid_elems.assign_coords(\n",
    "        grid_lat=grid_lat,\n",
    "        grid_lon=grid_lon,\n",
    "    )\n",
    "    \n",
    "    ## modify the mesh for nodes and \n",
    "    ds_mesh = ds_mesh.assign_coords(\n",
    "        lat=(\"nod2\", ds_mesh.lat.data.flatten()),\n",
    "        lon=(\"nod2\", ds_mesh.lon.data.flatten()),\n",
    "    )\n",
    "    #\n",
    "    # Ensure the xoak index \n",
    "    ds_mesh.xoak.set_index([\"lat\", \"lon\"], \"sklearn_geo_balltree\")\n",
    "    \n",
    "    #-------------get the nod2grids\n",
    "    #grid_nodes\n",
    "    grid_nodes = ds_mesh.xoak.sel(\n",
    "        lat = target_lat,\n",
    "        lon = target_lon,\n",
    "    ).nod2\n",
    "\n",
    "    #%--- open the files\n",
    "    ds_u = xr.open_dataset(path1+u_file).compute()\n",
    "    ds_v = xr.open_dataset(path1+v_file).compute()\n",
    "    ds_w = xr.open_dataset(path1+w_file).compute()\n",
    "\n",
    "    #%--- define the depths\n",
    "    z_target = xr.DataArray(\n",
    "        sorted(list(ds_mesh.nz1.data) + list(ds_mesh.nz.data[[0,-1]])),\n",
    "        dims = 'z',)\n",
    "    \n",
    "    u_interp = ds_u.u.isel(elem=grid_elems - 1).sel(nz1=z_target,method = 'nearest') \n",
    "    v_interp = ds_v.v.isel(elem=grid_elems - 1).sel(nz1=z_target,method = 'nearest') \n",
    "    w_interp = ds_w.w.isel(nod2=grid_nodes - 1).sel(nz=z_target,method = 'nearest')\n",
    "\n",
    "    w_interp=w_interp.assign_coords(\n",
    "        grid_lon = target_lon.isel(grid_lat = 0, drop = True),\n",
    "        grid_lat = target_lat.isel(grid_lon = 0, drop = True),\n",
    "        z = z_target,\n",
    "        )\n",
    "    u_interp=u_interp.assign_coords(\n",
    "        grid_lon = target_lon.isel(grid_lat = 0, drop = True),\n",
    "        grid_lat = target_lat.isel(grid_lon = 0, drop = True),\n",
    "        z = z_target,\n",
    "        )\n",
    "    v_interp=v_interp.assign_coords(\n",
    "        grid_lon = target_lon.isel(grid_lat = 0, drop = True),\n",
    "        grid_lat = target_lat.isel(grid_lon = 0, drop = True),\n",
    "        z = z_target,\n",
    "        )\n",
    "\n",
    "    u_interp= u_interp.rename({'nz1':'nz'})\n",
    "    v_interp= v_interp.rename({'nz1':'nz'})\n",
    "\n",
    "    u_interp=u_interp.transpose('time','z','grid_lat','grid_lon')\n",
    "    v_interp=v_interp.transpose('time','z','grid_lat','grid_lon')\n",
    "    w_interp=w_interp.transpose('time','z','grid_lat','grid_lon')\n",
    "\n",
    "    return u_interp, v_interp, w_interp"
   ]
  },
  {
   "cell_type": "code",
   "execution_count": 3,
   "id": "5631d16d-98e5-4384-b053-ff6d7cec5d00",
   "metadata": {
    "execution": {
     "iopub.execute_input": "2024-12-19T14:07:04.435821Z",
     "iopub.status.busy": "2024-12-19T14:07:04.435615Z",
     "iopub.status.idle": "2024-12-19T17:41:05.759674Z",
     "shell.execute_reply": "2024-12-19T17:41:05.759008Z"
    },
    "papermill": {
     "duration": 12841.327874,
     "end_time": "2024-12-19T17:41:05.761188",
     "exception": false,
     "start_time": "2024-12-19T14:07:04.433314",
     "status": "completed"
    },
    "tags": []
   },
   "outputs": [
    {
     "name": "stderr",
     "output_type": "stream",
     "text": [
      "\r",
      "  0%|          | 0/98 [00:00<?, ?it/s]"
     ]
    },
    {
     "name": "stderr",
     "output_type": "stream",
     "text": [
      "\r",
      "  1%|          | 1/98 [02:22<3:50:42, 142.71s/it]"
     ]
    },
    {
     "name": "stderr",
     "output_type": "stream",
     "text": [
      "\r",
      "  2%|▏         | 2/98 [04:43<3:46:43, 141.71s/it]"
     ]
    },
    {
     "name": "stderr",
     "output_type": "stream",
     "text": [
      "\r",
      "  3%|▎         | 3/98 [07:03<3:43:18, 141.04s/it]"
     ]
    },
    {
     "name": "stderr",
     "output_type": "stream",
     "text": [
      "\r",
      "  4%|▍         | 4/98 [09:22<3:39:33, 140.15s/it]"
     ]
    },
    {
     "name": "stderr",
     "output_type": "stream",
     "text": [
      "\r",
      "  5%|▌         | 5/98 [11:41<3:36:37, 139.75s/it]"
     ]
    },
    {
     "name": "stderr",
     "output_type": "stream",
     "text": [
      "\r",
      "  6%|▌         | 6/98 [13:58<3:32:33, 138.63s/it]"
     ]
    },
    {
     "name": "stderr",
     "output_type": "stream",
     "text": [
      "\r",
      "  7%|▋         | 7/98 [16:12<3:27:57, 137.12s/it]"
     ]
    },
    {
     "name": "stderr",
     "output_type": "stream",
     "text": [
      "\r",
      "  8%|▊         | 8/98 [18:22<3:22:16, 134.85s/it]"
     ]
    },
    {
     "name": "stderr",
     "output_type": "stream",
     "text": [
      "\r",
      "  9%|▉         | 9/98 [20:31<3:17:33, 133.19s/it]"
     ]
    },
    {
     "name": "stderr",
     "output_type": "stream",
     "text": [
      "\r",
      " 10%|█         | 10/98 [22:40<3:13:29, 131.93s/it]"
     ]
    },
    {
     "name": "stderr",
     "output_type": "stream",
     "text": [
      "\r",
      " 11%|█         | 11/98 [24:51<3:10:53, 131.65s/it]"
     ]
    },
    {
     "name": "stderr",
     "output_type": "stream",
     "text": [
      "\r",
      " 12%|█▏        | 12/98 [27:01<3:07:46, 131.00s/it]"
     ]
    },
    {
     "name": "stderr",
     "output_type": "stream",
     "text": [
      "\r",
      " 13%|█▎        | 13/98 [29:10<3:04:55, 130.53s/it]"
     ]
    },
    {
     "name": "stderr",
     "output_type": "stream",
     "text": [
      "\r",
      " 14%|█▍        | 14/98 [31:20<3:02:24, 130.29s/it]"
     ]
    },
    {
     "name": "stderr",
     "output_type": "stream",
     "text": [
      "\r",
      " 15%|█▌        | 15/98 [33:30<2:59:54, 130.06s/it]"
     ]
    },
    {
     "name": "stderr",
     "output_type": "stream",
     "text": [
      "\r",
      " 16%|█▋        | 16/98 [35:39<2:57:36, 129.95s/it]"
     ]
    },
    {
     "name": "stderr",
     "output_type": "stream",
     "text": [
      "\r",
      " 17%|█▋        | 17/98 [37:48<2:54:55, 129.58s/it]"
     ]
    },
    {
     "name": "stderr",
     "output_type": "stream",
     "text": [
      "\r",
      " 18%|█▊        | 18/98 [39:57<2:52:26, 129.33s/it]"
     ]
    },
    {
     "name": "stderr",
     "output_type": "stream",
     "text": [
      "\r",
      " 19%|█▉        | 19/98 [42:05<2:49:58, 129.09s/it]"
     ]
    },
    {
     "name": "stderr",
     "output_type": "stream",
     "text": [
      "\r",
      " 20%|██        | 20/98 [44:14<2:47:33, 128.89s/it]"
     ]
    },
    {
     "name": "stderr",
     "output_type": "stream",
     "text": [
      "\r",
      " 21%|██▏       | 21/98 [46:22<2:45:10, 128.71s/it]"
     ]
    },
    {
     "name": "stderr",
     "output_type": "stream",
     "text": [
      "\r",
      " 22%|██▏       | 22/98 [48:31<2:43:07, 128.78s/it]"
     ]
    },
    {
     "name": "stderr",
     "output_type": "stream",
     "text": [
      "\r",
      " 23%|██▎       | 23/98 [50:39<2:40:40, 128.54s/it]"
     ]
    },
    {
     "name": "stderr",
     "output_type": "stream",
     "text": [
      "\r",
      " 24%|██▍       | 24/98 [52:48<2:38:47, 128.75s/it]"
     ]
    },
    {
     "name": "stderr",
     "output_type": "stream",
     "text": [
      "\r",
      " 26%|██▌       | 25/98 [54:57<2:36:47, 128.87s/it]"
     ]
    },
    {
     "name": "stderr",
     "output_type": "stream",
     "text": [
      "\r",
      " 27%|██▋       | 26/98 [57:06<2:34:41, 128.91s/it]"
     ]
    },
    {
     "name": "stderr",
     "output_type": "stream",
     "text": [
      "\r",
      " 28%|██▊       | 27/98 [59:16<2:32:39, 129.01s/it]"
     ]
    },
    {
     "name": "stderr",
     "output_type": "stream",
     "text": [
      "\r",
      " 29%|██▊       | 28/98 [1:01:25<2:30:31, 129.02s/it]"
     ]
    },
    {
     "name": "stderr",
     "output_type": "stream",
     "text": [
      "\r",
      " 30%|██▉       | 29/98 [1:03:34<2:28:26, 129.08s/it]"
     ]
    },
    {
     "name": "stderr",
     "output_type": "stream",
     "text": [
      "\r",
      " 31%|███       | 30/98 [1:05:43<2:26:19, 129.10s/it]"
     ]
    },
    {
     "name": "stderr",
     "output_type": "stream",
     "text": [
      "\r",
      " 32%|███▏      | 31/98 [1:07:53<2:24:25, 129.33s/it]"
     ]
    },
    {
     "name": "stderr",
     "output_type": "stream",
     "text": [
      "\r",
      " 33%|███▎      | 32/98 [1:10:05<2:23:05, 130.09s/it]"
     ]
    },
    {
     "name": "stderr",
     "output_type": "stream",
     "text": [
      "\r",
      " 34%|███▎      | 33/98 [1:12:15<2:20:58, 130.14s/it]"
     ]
    },
    {
     "name": "stderr",
     "output_type": "stream",
     "text": [
      "\r",
      " 35%|███▍      | 34/98 [1:14:26<2:19:04, 130.38s/it]"
     ]
    },
    {
     "name": "stderr",
     "output_type": "stream",
     "text": [
      "\r",
      " 36%|███▌      | 35/98 [1:16:37<2:17:14, 130.71s/it]"
     ]
    },
    {
     "name": "stderr",
     "output_type": "stream",
     "text": [
      "\r",
      " 37%|███▋      | 36/98 [1:18:51<2:15:50, 131.46s/it]"
     ]
    },
    {
     "name": "stderr",
     "output_type": "stream",
     "text": [
      "\r",
      " 38%|███▊      | 37/98 [1:21:04<2:14:14, 132.05s/it]"
     ]
    },
    {
     "name": "stderr",
     "output_type": "stream",
     "text": [
      "\r",
      " 39%|███▉      | 38/98 [1:23:20<2:13:18, 133.31s/it]"
     ]
    },
    {
     "name": "stderr",
     "output_type": "stream",
     "text": [
      "\r",
      " 40%|███▉      | 39/98 [1:25:30<2:10:01, 132.23s/it]"
     ]
    },
    {
     "name": "stderr",
     "output_type": "stream",
     "text": [
      "\r",
      " 41%|████      | 40/98 [1:27:39<2:06:47, 131.16s/it]"
     ]
    },
    {
     "name": "stderr",
     "output_type": "stream",
     "text": [
      "\r",
      " 42%|████▏     | 41/98 [1:29:47<2:03:41, 130.21s/it]"
     ]
    },
    {
     "name": "stderr",
     "output_type": "stream",
     "text": [
      "\r",
      " 43%|████▎     | 42/98 [1:31:54<2:00:47, 129.42s/it]"
     ]
    },
    {
     "name": "stderr",
     "output_type": "stream",
     "text": [
      "\r",
      " 44%|████▍     | 43/98 [1:34:07<1:59:31, 130.40s/it]"
     ]
    },
    {
     "name": "stderr",
     "output_type": "stream",
     "text": [
      "\r",
      " 45%|████▍     | 44/98 [1:36:20<1:58:11, 131.32s/it]"
     ]
    },
    {
     "name": "stderr",
     "output_type": "stream",
     "text": [
      "\r",
      " 46%|████▌     | 45/98 [1:38:27<1:54:52, 130.04s/it]"
     ]
    },
    {
     "name": "stderr",
     "output_type": "stream",
     "text": [
      "\r",
      " 47%|████▋     | 46/98 [1:40:35<1:51:58, 129.20s/it]"
     ]
    },
    {
     "name": "stderr",
     "output_type": "stream",
     "text": [
      "\r",
      " 48%|████▊     | 47/98 [1:42:43<1:49:28, 128.80s/it]"
     ]
    },
    {
     "name": "stderr",
     "output_type": "stream",
     "text": [
      "\r",
      " 49%|████▉     | 48/98 [1:44:51<1:47:09, 128.59s/it]"
     ]
    },
    {
     "name": "stderr",
     "output_type": "stream",
     "text": [
      "\r",
      " 50%|█████     | 49/98 [1:46:59<1:44:54, 128.47s/it]"
     ]
    },
    {
     "name": "stderr",
     "output_type": "stream",
     "text": [
      "\r",
      " 51%|█████     | 50/98 [1:49:09<1:43:16, 129.09s/it]"
     ]
    },
    {
     "name": "stderr",
     "output_type": "stream",
     "text": [
      "\r",
      " 52%|█████▏    | 51/98 [1:51:22<1:41:53, 130.07s/it]"
     ]
    },
    {
     "name": "stderr",
     "output_type": "stream",
     "text": [
      "\r",
      " 53%|█████▎    | 52/98 [1:53:34<1:40:16, 130.80s/it]"
     ]
    },
    {
     "name": "stderr",
     "output_type": "stream",
     "text": [
      "\r",
      " 54%|█████▍    | 53/98 [1:55:47<1:38:39, 131.54s/it]"
     ]
    },
    {
     "name": "stderr",
     "output_type": "stream",
     "text": [
      "\r",
      " 55%|█████▌    | 54/98 [1:58:02<1:37:02, 132.33s/it]"
     ]
    },
    {
     "name": "stderr",
     "output_type": "stream",
     "text": [
      "\r",
      " 56%|█████▌    | 55/98 [2:00:15<1:35:06, 132.72s/it]"
     ]
    },
    {
     "name": "stderr",
     "output_type": "stream",
     "text": [
      "\r",
      " 57%|█████▋    | 56/98 [2:02:28<1:32:59, 132.85s/it]"
     ]
    },
    {
     "name": "stderr",
     "output_type": "stream",
     "text": [
      "\r",
      " 58%|█████▊    | 57/98 [2:04:42<1:30:50, 132.95s/it]"
     ]
    },
    {
     "name": "stderr",
     "output_type": "stream",
     "text": [
      "\r",
      " 59%|█████▉    | 58/98 [2:06:54<1:28:32, 132.81s/it]"
     ]
    },
    {
     "name": "stderr",
     "output_type": "stream",
     "text": [
      "\r",
      " 60%|██████    | 59/98 [2:09:03<1:25:32, 131.60s/it]"
     ]
    },
    {
     "name": "stderr",
     "output_type": "stream",
     "text": [
      "\r",
      " 61%|██████    | 60/98 [2:11:11<1:22:40, 130.53s/it]"
     ]
    },
    {
     "name": "stderr",
     "output_type": "stream",
     "text": [
      "\r",
      " 62%|██████▏   | 61/98 [2:13:18<1:19:50, 129.46s/it]"
     ]
    },
    {
     "name": "stderr",
     "output_type": "stream",
     "text": [
      "\r",
      " 63%|██████▎   | 62/98 [2:15:25<1:17:18, 128.86s/it]"
     ]
    },
    {
     "name": "stderr",
     "output_type": "stream",
     "text": [
      "\r",
      " 64%|██████▍   | 63/98 [2:17:32<1:14:43, 128.09s/it]"
     ]
    },
    {
     "name": "stderr",
     "output_type": "stream",
     "text": [
      "\r",
      " 65%|██████▌   | 64/98 [2:19:39<1:12:24, 127.77s/it]"
     ]
    },
    {
     "name": "stderr",
     "output_type": "stream",
     "text": [
      "\r",
      " 66%|██████▋   | 65/98 [2:21:47<1:10:26, 128.09s/it]"
     ]
    },
    {
     "name": "stderr",
     "output_type": "stream",
     "text": [
      "\r",
      " 67%|██████▋   | 66/98 [2:23:57<1:08:35, 128.61s/it]"
     ]
    },
    {
     "name": "stderr",
     "output_type": "stream",
     "text": [
      "\r",
      " 68%|██████▊   | 67/98 [2:26:08<1:06:42, 129.11s/it]"
     ]
    },
    {
     "name": "stderr",
     "output_type": "stream",
     "text": [
      "\r",
      " 69%|██████▉   | 68/98 [2:28:16<1:04:25, 128.87s/it]"
     ]
    },
    {
     "name": "stderr",
     "output_type": "stream",
     "text": [
      "\r",
      " 70%|███████   | 69/98 [2:30:25<1:02:21, 129.02s/it]"
     ]
    },
    {
     "name": "stderr",
     "output_type": "stream",
     "text": [
      "\r",
      " 71%|███████▏  | 70/98 [2:32:35<1:00:17, 129.21s/it]"
     ]
    },
    {
     "name": "stderr",
     "output_type": "stream",
     "text": [
      "\r",
      " 72%|███████▏  | 71/98 [2:34:47<58:33, 130.13s/it]  "
     ]
    },
    {
     "name": "stderr",
     "output_type": "stream",
     "text": [
      "\r",
      " 73%|███████▎  | 72/98 [2:37:00<56:45, 130.97s/it]"
     ]
    },
    {
     "name": "stderr",
     "output_type": "stream",
     "text": [
      "\r",
      " 74%|███████▍  | 73/98 [2:39:13<54:44, 131.40s/it]"
     ]
    },
    {
     "name": "stderr",
     "output_type": "stream",
     "text": [
      "\r",
      " 76%|███████▌  | 74/98 [2:41:22<52:22, 130.95s/it]"
     ]
    },
    {
     "name": "stderr",
     "output_type": "stream",
     "text": [
      "\r",
      " 77%|███████▋  | 75/98 [2:43:30<49:47, 129.88s/it]"
     ]
    },
    {
     "name": "stderr",
     "output_type": "stream",
     "text": [
      "\r",
      " 78%|███████▊  | 76/98 [2:45:39<47:34, 129.75s/it]"
     ]
    },
    {
     "name": "stderr",
     "output_type": "stream",
     "text": [
      "\r",
      " 79%|███████▊  | 77/98 [2:47:50<45:28, 129.93s/it]"
     ]
    },
    {
     "name": "stderr",
     "output_type": "stream",
     "text": [
      "\r",
      " 80%|███████▉  | 78/98 [2:50:00<43:21, 130.06s/it]"
     ]
    },
    {
     "name": "stderr",
     "output_type": "stream",
     "text": [
      "\r",
      " 81%|████████  | 79/98 [2:52:13<41:30, 131.07s/it]"
     ]
    },
    {
     "name": "stderr",
     "output_type": "stream",
     "text": [
      "\r",
      " 82%|████████▏ | 80/98 [2:54:25<39:22, 131.23s/it]"
     ]
    },
    {
     "name": "stderr",
     "output_type": "stream",
     "text": [
      "\r",
      " 83%|████████▎ | 81/98 [2:56:36<37:08, 131.06s/it]"
     ]
    },
    {
     "name": "stderr",
     "output_type": "stream",
     "text": [
      "\r",
      " 84%|████████▎ | 82/98 [2:58:47<34:58, 131.13s/it]"
     ]
    },
    {
     "name": "stderr",
     "output_type": "stream",
     "text": [
      "\r",
      " 85%|████████▍ | 83/98 [3:00:57<32:42, 130.82s/it]"
     ]
    },
    {
     "name": "stderr",
     "output_type": "stream",
     "text": [
      "\r",
      " 86%|████████▌ | 84/98 [3:03:08<30:31, 130.85s/it]"
     ]
    },
    {
     "name": "stderr",
     "output_type": "stream",
     "text": [
      "\r",
      " 87%|████████▋ | 85/98 [3:05:19<28:21, 130.88s/it]"
     ]
    },
    {
     "name": "stderr",
     "output_type": "stream",
     "text": [
      "\r",
      " 88%|████████▊ | 86/98 [3:07:29<26:08, 130.71s/it]"
     ]
    },
    {
     "name": "stderr",
     "output_type": "stream",
     "text": [
      "\r",
      " 89%|████████▉ | 87/98 [3:09:40<23:58, 130.73s/it]"
     ]
    },
    {
     "name": "stderr",
     "output_type": "stream",
     "text": [
      "\r",
      " 90%|████████▉ | 88/98 [3:12:02<22:20, 134.04s/it]"
     ]
    },
    {
     "name": "stderr",
     "output_type": "stream",
     "text": [
      "\r",
      " 91%|█████████ | 89/98 [3:14:21<20:21, 135.73s/it]"
     ]
    },
    {
     "name": "stderr",
     "output_type": "stream",
     "text": [
      "\r",
      " 92%|█████████▏| 90/98 [3:16:33<17:55, 134.38s/it]"
     ]
    },
    {
     "name": "stderr",
     "output_type": "stream",
     "text": [
      "\r",
      " 93%|█████████▎| 91/98 [3:18:43<15:31, 133.13s/it]"
     ]
    },
    {
     "name": "stderr",
     "output_type": "stream",
     "text": [
      "\r",
      " 94%|█████████▍| 92/98 [3:20:54<13:15, 132.61s/it]"
     ]
    },
    {
     "name": "stderr",
     "output_type": "stream",
     "text": [
      "\r",
      " 95%|█████████▍| 93/98 [3:23:05<11:00, 132.00s/it]"
     ]
    },
    {
     "name": "stderr",
     "output_type": "stream",
     "text": [
      "\r",
      " 96%|█████████▌| 94/98 [3:25:16<08:47, 131.78s/it]"
     ]
    },
    {
     "name": "stderr",
     "output_type": "stream",
     "text": [
      "\r",
      " 97%|█████████▋| 95/98 [3:27:28<06:35, 131.67s/it]"
     ]
    },
    {
     "name": "stderr",
     "output_type": "stream",
     "text": [
      "\r",
      " 98%|█████████▊| 96/98 [3:29:38<04:22, 131.38s/it]"
     ]
    },
    {
     "name": "stderr",
     "output_type": "stream",
     "text": [
      "\r",
      " 99%|█████████▉| 97/98 [3:31:50<02:11, 131.36s/it]"
     ]
    },
    {
     "name": "stderr",
     "output_type": "stream",
     "text": [
      "\r",
      "100%|██████████| 98/98 [3:34:01<00:00, 131.31s/it]"
     ]
    },
    {
     "name": "stderr",
     "output_type": "stream",
     "text": [
      "\r",
      "100%|██████████| 98/98 [3:34:01<00:00, 131.03s/it]"
     ]
    },
    {
     "name": "stderr",
     "output_type": "stream",
     "text": [
      "\n"
     ]
    }
   ],
   "source": [
    "# Define the paths to your FESOM data files\n",
    "path1 = \"/gxfs_work/geomar/smomw662/FESOM_data/channel/\"  # Adjust the path to your FESOM dataset\n",
    "mesh_file = \"fesom.mesh.diag.nc\"  # The FESOM mesh file\n",
    "\n",
    "for year in tqdm(range(1960, 2057+1,1)):\n",
    "    \n",
    "    u_file = f\"u.fesom.{year}.nc\"  # File containing U velocity\n",
    "    v_file = f\"v.fesom.{year}.nc\"  # File containing V velocity\n",
    "    w_file = f\"w.fesom.{year}.nc\"  # File containing W velocity\n",
    "    \n",
    "    u_interp, v_interp, w_interp =  interp_fesom(path1 = path1,\n",
    "                                                 mesh_file = mesh_file, \n",
    "                                                 u_file = u_file,\n",
    "                                                 v_file = v_file,\n",
    "                                                 w_file = w_file,\n",
    "                                                )\n",
    "    \n",
    "    u_interp.drop_encoding().to_netcdf(f'/gxfs_work/geomar/smomw662/FESOM_data/channel_interp/u.{year}.nc') \n",
    "    v_interp.drop_encoding().to_netcdf(f'/gxfs_work/geomar/smomw662/FESOM_data/channel_interp/v.{year}.nc')\n",
    "    w_interp.drop_encoding().to_netcdf(f'/gxfs_work/geomar/smomw662/FESOM_data/channel_interp/w.{year}.nc')"
   ]
  },
  {
   "cell_type": "code",
   "execution_count": 4,
   "id": "ef1cc5ab-523f-41b5-9a9f-150e1c72f230",
   "metadata": {
    "execution": {
     "iopub.execute_input": "2024-12-19T17:41:05.776649Z",
     "iopub.status.busy": "2024-12-19T17:41:05.776356Z",
     "iopub.status.idle": "2024-12-19T17:41:05.779989Z",
     "shell.execute_reply": "2024-12-19T17:41:05.779416Z"
    },
    "papermill": {
     "duration": 0.012965,
     "end_time": "2024-12-19T17:41:05.781210",
     "exception": false,
     "start_time": "2024-12-19T17:41:05.768245",
     "status": "completed"
    },
    "tags": []
   },
   "outputs": [],
   "source": [
    "# w_interp.sel(grid_lon = 2.2, grid_lat = 8, method = 'nearest').plot(x='time',y='z',ylim=(4000, 0))"
   ]
  },
  {
   "cell_type": "code",
   "execution_count": 5,
   "id": "7768c5f0-abed-41ba-9692-0d0ce25d8693",
   "metadata": {
    "execution": {
     "iopub.execute_input": "2024-12-19T17:41:05.797308Z",
     "iopub.status.busy": "2024-12-19T17:41:05.797026Z",
     "iopub.status.idle": "2024-12-19T17:41:05.800353Z",
     "shell.execute_reply": "2024-12-19T17:41:05.799758Z"
    },
    "papermill": {
     "duration": 0.013079,
     "end_time": "2024-12-19T17:41:05.801595",
     "exception": false,
     "start_time": "2024-12-19T17:41:05.788516",
     "status": "completed"
    },
    "tags": []
   },
   "outputs": [],
   "source": [
    "# for year in range(1960, 2057+1,1):\n",
    "#     u_interp, v_interp, w_interp =  interp_fesom()\n",
    "    \n",
    "#     u_interp.drop_encoding().to_netcdf(f'/gxfs_work/geomar/smomw662/FESOM_data/channel_interp/u.{year}.nc') \n",
    "#     v_interp.drop_encoding().to_netcdf()\n",
    "#     w_interp.drop_encoding().to_netcdf()\n",
    "    "
   ]
  }
 ],
 "metadata": {
  "kernelspec": {
   "display_name": "Python 3 (ipykernel)",
   "language": "python",
   "name": "python3"
  },
  "language_info": {
   "codemirror_mode": {
    "name": "ipython",
    "version": 3
   },
   "file_extension": ".py",
   "mimetype": "text/x-python",
   "name": "python",
   "nbconvert_exporter": "python",
   "pygments_lexer": "ipython3",
   "version": "3.11.10"
  },
  "papermill": {
   "default_parameters": {},
   "duration": 12847.157067,
   "end_time": "2024-12-19T17:41:06.571489",
   "environment_variables": {},
   "exception": null,
   "input_path": "/gxfs_work/geomar/smomw662/FESOMparcels_first/notebooks/FESOM_interpolator.ipynb",
   "output_path": "/gxfs_work/geomar/smomw662/FESOMparcels_first/notebooks/FESOM_interpolator_out.ipynb",
   "parameters": {},
   "start_time": "2024-12-19T14:06:59.414422",
   "version": "2.6.0"
  }
 },
 "nbformat": 4,
 "nbformat_minor": 5
}